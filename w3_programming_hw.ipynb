{
 "cells": [
  {
   "cell_type": "markdown",
   "id": "7f5b3cd9",
   "metadata": {},
   "source": [
    "# Euler's Method:"
   ]
  },
  {
   "cell_type": "markdown",
   "id": "31512333",
   "metadata": {},
   "source": [
    "We want to build an ODE solver that allows us to specify an IVP, and then outputs a table and graph of the DE.\n",
    "\n",
    " - $y_{n+1} = y_n + h*y'(x_n, y_n)$"
   ]
  },
  {
   "cell_type": "markdown",
   "id": "8fcaffe1",
   "metadata": {},
   "source": [
    "Test Example:\n",
    "\n",
    " - $ y'(x) = y-x^2+1$\n",
    "\n",
    " - $y(0) = 0.5$"
   ]
  },
  {
   "cell_type": "code",
   "execution_count": null,
   "id": "18a0d529",
   "metadata": {},
   "outputs": [],
   "source": []
  },
  {
   "cell_type": "markdown",
   "id": "24f209a2",
   "metadata": {},
   "source": [
    "# Monte-Carlo Simulation:"
   ]
  },
  {
   "cell_type": "markdown",
   "id": "bc5dc77d",
   "metadata": {},
   "source": [
    "Algorithm:\n",
    " - Sample randomly according to a uniform distribution in $[a,b]$.\n",
    " \n",
    " - Generate $dx$ list.\n",
    "\n",
    " - Use Euler's method, but don't use $n*h$, use $dx_i$ from the $dx$ list."
   ]
  },
  {
   "cell_type": "code",
   "execution_count": null,
   "id": "7e284a17",
   "metadata": {},
   "outputs": [],
   "source": []
  }
 ],
 "metadata": {
  "kernelspec": {
   "display_name": "Python 3",
   "language": "python",
   "name": "python3"
  },
  "language_info": {
   "codemirror_mode": {
    "name": "ipython",
    "version": 3
   },
   "file_extension": ".py",
   "mimetype": "text/x-python",
   "name": "python",
   "nbconvert_exporter": "python",
   "pygments_lexer": "ipython3",
   "version": "3.12.10"
  }
 },
 "nbformat": 4,
 "nbformat_minor": 5
}
