{
 "cells": [
  {
   "cell_type": "markdown",
   "id": "5df918c3",
   "metadata": {},
   "source": [
    "This is the homework for week 2! The prompt is to use NumPy (or sagemath) to determine if a list of vectors forms an orthogonal / orthonormal basis for a vector space, compute inner products, multiply matrices, and compute LU and spectral decompositions."
   ]
  },
  {
   "cell_type": "markdown",
   "id": "acddcf64",
   "metadata": {},
   "source": [
    "Problem 1: Build a function to take two vectors and compute their inner product. "
   ]
  },
  {
   "cell_type": "code",
   "execution_count": null,
   "id": "836d1193",
   "metadata": {},
   "outputs": [],
   "source": []
  },
  {
   "cell_type": "markdown",
   "id": "0c81d128",
   "metadata": {},
   "source": [
    "Problem 2: Build a function which checks if two matrices can be multiplied and then multiplies them."
   ]
  },
  {
   "cell_type": "code",
   "execution_count": null,
   "id": "9e118869",
   "metadata": {},
   "outputs": [],
   "source": []
  },
  {
   "cell_type": "markdown",
   "id": "7e96eda9",
   "metadata": {},
   "source": [
    "Problem 3: Build a function which takes A and computes $A^T$."
   ]
  },
  {
   "cell_type": "code",
   "execution_count": null,
   "id": "715dafbd",
   "metadata": {},
   "outputs": [],
   "source": []
  },
  {
   "cell_type": "markdown",
   "id": "85e1b299",
   "metadata": {},
   "source": [
    "Problem 4: Build a function which determines if a list of vectors is an orthogonal or orthonormal basis by computing $A^T A$ and checking if it is diagonal / I. (Hint: Use your function from problem 3!)"
   ]
  },
  {
   "cell_type": "code",
   "execution_count": null,
   "id": "9a246ec0",
   "metadata": {},
   "outputs": [],
   "source": []
  },
  {
   "cell_type": "markdown",
   "id": "b0767499",
   "metadata": {},
   "source": [
    "Problem 5: Use Numpy's internal tools to compute the eigenvectors and eigenvalues of A, and then build a function which outputs the spectral decomposition of A."
   ]
  },
  {
   "cell_type": "code",
   "execution_count": null,
   "id": "cc43486a",
   "metadata": {},
   "outputs": [],
   "source": []
  }
 ],
 "metadata": {
  "kernelspec": {
   "display_name": "Python 3",
   "language": "python",
   "name": "python3"
  },
  "language_info": {
   "name": "python",
   "version": "3.12.10"
  }
 },
 "nbformat": 4,
 "nbformat_minor": 5
}
