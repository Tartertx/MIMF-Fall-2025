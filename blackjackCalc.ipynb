{
 "cells": [
  {
   "cell_type": "markdown",
   "id": "9a417e62",
   "metadata": {},
   "source": [
    "Inputs:\n",
    "- your hand value (sum of cards)\n",
    "\n",
    "- how many cards are left in the deck\n",
    "\n",
    "- how many face cards are left in the deck\n",
    "\n",
    "- how many aces are left in the deck\n",
    "\n",
    "Out:\n",
    "- probability of busting"
   ]
  },
  {
   "cell_type": "code",
   "execution_count": null,
   "id": "16b9821c",
   "metadata": {},
   "outputs": [
    {
     "name": "stdout",
     "output_type": "stream",
     "text": [
      "The probability of busting is 0.08833333333333335.\n"
     ]
    }
   ],
   "source": [
    "#inputs\n",
    "hv = 3\n",
    "cardsleft = 52\n",
    "faces = 5\n",
    "aces = 4\n",
    "acevalue = 11\n",
    "\n",
    "B = hv\n",
    "beta = []\n",
    "for i in range(1,B+1):\n",
    "    beta+= [i]\n",
    "\n",
    "#calculate p(x>B)\n",
    "xGb = 0 \n",
    "for bi in beta:\n",
    "    if 1< bi < 10:\n",
    "        xGb += faces/cardsleft\n",
    "    elif bi == acevalue:\n",
    "        xGb += aces/cardsleft\n",
    "    else:\n",
    "        xGb += 1 - (faces/cardsleft+ aces/cardsleft)\n",
    "\n",
    "#set the probability that x > beta\n",
    "xGb = 1-xGb/len(beta)\n",
    "\n",
    "#calculate E[x]\n",
    "eFaces = 40*faces/cardsleft\n",
    "eAces = acevalue*aces/cardsleft\n",
    "\n",
    "eX = eFaces + eAces\n",
    "\n",
    "lam = xGb / eX\n",
    "print(f'The probability of busting is {lam}.')"
   ]
  }
 ],
 "metadata": {
  "kernelspec": {
   "display_name": "Python 3",
   "language": "python",
   "name": "python3"
  },
  "language_info": {
   "codemirror_mode": {
    "name": "ipython",
    "version": 3
   },
   "file_extension": ".py",
   "mimetype": "text/x-python",
   "name": "python",
   "nbconvert_exporter": "python",
   "pygments_lexer": "ipython3",
   "version": "3.12.10"
  }
 },
 "nbformat": 4,
 "nbformat_minor": 5
}
