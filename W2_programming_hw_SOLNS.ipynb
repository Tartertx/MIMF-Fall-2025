{
 "cells": [
  {
   "cell_type": "markdown",
   "id": "5df918c3",
   "metadata": {},
   "source": [
    "This is the homework for week 2! The prompt is to use NumPy (or sagemath) to determine if a list of vectors forms an orthogonal / orthonormal basis for a vector space, compute inner products, multiply matrices, and compute LU and spectral decompositions."
   ]
  },
  {
   "cell_type": "markdown",
   "id": "acddcf64",
   "metadata": {},
   "source": [
    "Problem 1: Build a function to take two vectors with real-valued entries and compute their inner product. "
   ]
  },
  {
   "cell_type": "code",
   "execution_count": null,
   "id": "836d1193",
   "metadata": {},
   "outputs": [
    {
     "name": "stdout",
     "output_type": "stream",
     "text": [
      "The inner product of [1, 2, 3, -1] and [-2, 1, 1, 3] is 0.\n"
     ]
    }
   ],
   "source": [
    "def ip(v1,v2):\n",
    "\n",
    "    #ip_out is the running sum of our terms\n",
    "    ip_out = 0\n",
    "\n",
    "    #quality control to make sure that v1 and v2 are the same length\n",
    "    if len(a) == len(b):\n",
    "\n",
    "        #the for loop indexes the rows in each vector\n",
    "        for i in range(len(v1)):\n",
    "            \n",
    "            #this next line computes the ith sum in our inner product calculation\n",
    "            ip_out += v1[i]*v2[i]\n",
    "        \n",
    "        #the return statement ends the function and outputs the inner product of both vectors\n",
    "        return ip_out\n",
    "    else:\n",
    "        return print('Your vectors are not the same length!')\n",
    "\n",
    "#put test cases here\n",
    "a = [1,2,3,-1]\n",
    "b = [-2,1,1,3]\n",
    "\n",
    "#print the output\n",
    "print(f'The inner product of {a} and {b} is {ip(a,b)}.')"
   ]
  },
  {
   "cell_type": "markdown",
   "id": "0c81d128",
   "metadata": {},
   "source": [
    "Problem 2: Build a function which checks if two matrices can be multiplied and then multiplies them."
   ]
  },
  {
   "cell_type": "code",
   "execution_count": 16,
   "id": "9e118869",
   "metadata": {},
   "outputs": [
    {
     "data": {
      "text/plain": [
       "array([[ 7.,  6.],\n",
       "       [-3., -2.],\n",
       "       [ 6.,  6.]])"
      ]
     },
     "execution_count": 16,
     "metadata": {},
     "output_type": "execute_result"
    }
   ],
   "source": [
    "import numpy as np\n",
    "\n",
    "#initialize matrices\n",
    "A = np.array( [ [3,2], [-1,0], [3,3]] )\n",
    "B = np.array( [ [3,2], [-1,0] ] )\n",
    "\n",
    "#check if we can multiply the matrices\n",
    "def canMult(A,B):\n",
    "    if np.shape(A)[1] == np.shape(B)[0]:\n",
    "        return True\n",
    "    else:\n",
    "        return False\n",
    "\n",
    "#multiply the matrices\n",
    "def mult(A,B):\n",
    "    m = np.shape(A)[0]\n",
    "    r = np.shape(B)[1]\n",
    "    sh = (m,r)\n",
    "    C = np.zeros(shape=sh)\n",
    "\n",
    "    if canMult(A,B) is True:\n",
    "        for i in range(r):\n",
    "            for j in range(m):\n",
    "                C[j,i] = ip(A[j,:],B[:,i])\n",
    "\n",
    "        return C\n",
    "    else:\n",
    "        return print('Cannot multiply these matrices.')\n",
    "\n",
    "mult(A,B)"
   ]
  },
  {
   "cell_type": "markdown",
   "id": "7e96eda9",
   "metadata": {},
   "source": [
    "Problem 3: Build a function which takes A and computes $A^T$."
   ]
  },
  {
   "cell_type": "code",
   "execution_count": null,
   "id": "715dafbd",
   "metadata": {},
   "outputs": [],
   "source": []
  },
  {
   "cell_type": "markdown",
   "id": "85e1b299",
   "metadata": {},
   "source": [
    "Problem 4: Build a function which determines if a list of vectors is an orthogonal or orthonormal basis by computing $A^T A$ and checking if it is diagonal / I. (Hint: Use your function from problem 3!)"
   ]
  },
  {
   "cell_type": "code",
   "execution_count": null,
   "id": "9a246ec0",
   "metadata": {},
   "outputs": [],
   "source": []
  },
  {
   "cell_type": "markdown",
   "id": "b0767499",
   "metadata": {},
   "source": [
    "Problem 5: Use Numpy's internal tools to compute the eigenvectors and eigenvalues of A, and then build a function which outputs the spectral decomposition of A."
   ]
  },
  {
   "cell_type": "code",
   "execution_count": null,
   "id": "cc43486a",
   "metadata": {},
   "outputs": [],
   "source": []
  }
 ],
 "metadata": {
  "kernelspec": {
   "display_name": "Python 3",
   "language": "python",
   "name": "python3"
  },
  "language_info": {
   "codemirror_mode": {
    "name": "ipython",
    "version": 3
   },
   "file_extension": ".py",
   "mimetype": "text/x-python",
   "name": "python",
   "nbconvert_exporter": "python",
   "pygments_lexer": "ipython3",
   "version": "3.12.10"
  }
 },
 "nbformat": 4,
 "nbformat_minor": 5
}
