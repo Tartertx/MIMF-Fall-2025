{
 "cells": [
  {
   "cell_type": "markdown",
   "id": "5df918c3",
   "metadata": {},
   "source": [
    "This is the homework for week 2! The prompt is to use NumPy (or sagemath) to determine if a list of vectors forms an orthogonal / orthonormal basis for a vector space, compute inner products, multiply matrices, and compute LU and spectral decompositions."
   ]
  },
  {
   "cell_type": "markdown",
   "id": "acddcf64",
   "metadata": {},
   "source": [
    "Problem 1: Build a function to take two vectors with real-valued entries and compute their inner product. "
   ]
  },
  {
   "cell_type": "code",
   "execution_count": null,
   "id": "836d1193",
   "metadata": {},
   "outputs": [
    {
     "name": "stdout",
     "output_type": "stream",
     "text": [
      "The inner product of [1, 2, 3, -1] and [-2, 1, 1, 3] is 0.\n"
     ]
    }
   ],
   "source": [
    "def ip(v1,v2):\n",
    "\n",
    "    #ip_out is the running sum of our terms\n",
    "    ip_out = 0\n",
    "\n",
    "    #quality control to make sure that v1 and v2 are the same length\n",
    "    if len(a) == len(b):\n",
    "\n",
    "        #the for loop indexes the rows in each vector\n",
    "        for i in range(len(v1)):\n",
    "            \n",
    "            #this next line computes the ith sum in our inner product calculation\n",
    "            ip_out += v1[i]*v2[i]\n",
    "        \n",
    "        #the return statement ends the function and outputs the inner product of both vectors\n",
    "        return ip_out\n",
    "    else:\n",
    "        return print('Your vectors are not the same length!')\n",
    "\n",
    "#put test cases here\n",
    "a = [1,2,3,-1]\n",
    "b = [-2,1,1,3]\n",
    "\n",
    "#print the output\n",
    "print(f'The inner product of {a} and {b} is {ip(a,b)}.')"
   ]
  },
  {
   "cell_type": "markdown",
   "id": "0c81d128",
   "metadata": {},
   "source": [
    "Problem 2: Build a function which checks if two matrices can be multiplied and then multiplies them."
   ]
  },
  {
   "cell_type": "code",
   "execution_count": 16,
   "id": "9e118869",
   "metadata": {},
   "outputs": [
    {
     "data": {
      "text/plain": [
       "array([[ 7.,  6.],\n",
       "       [-3., -2.],\n",
       "       [ 6.,  6.]])"
      ]
     },
     "execution_count": 16,
     "metadata": {},
     "output_type": "execute_result"
    }
   ],
   "source": [
    "import numpy as np\n",
    "\n",
    "#initialize matrices\n",
    "A = np.array( [ [3,2], [-1,0], [3,3]] )\n",
    "B = np.array( [ [3,2], [-1,0] ] )\n",
    "\n",
    "#check if we can multiply the matrices\n",
    "def canMult(A,B):\n",
    "    if np.shape(A)[1] == np.shape(B)[0]:\n",
    "        return True\n",
    "    else:\n",
    "        return False\n",
    "\n",
    "#multiply the matrices\n",
    "def mult(A,B):\n",
    "    m = np.shape(A)[0]\n",
    "    r = np.shape(B)[1]\n",
    "    sh = (m,r)\n",
    "    C = np.zeros(shape=sh)\n",
    "\n",
    "    if canMult(A,B) is True:\n",
    "        for i in range(r):\n",
    "            for j in range(m):\n",
    "                C[j,i] = ip(A[j,:],B[:,i])\n",
    "\n",
    "        return C\n",
    "    else:\n",
    "        return print('Cannot multiply these matrices.')\n",
    "\n",
    "mult(A,B)"
   ]
  },
  {
   "cell_type": "markdown",
   "id": "7e96eda9",
   "metadata": {},
   "source": [
    "Problem 3: Build a function which takes A and computes $A^T$."
   ]
  },
  {
   "cell_type": "code",
   "execution_count": 21,
   "id": "715dafbd",
   "metadata": {},
   "outputs": [
    {
     "data": {
      "text/plain": [
       "array([[ 3., -1.,  3.],\n",
       "       [ 2.,  0.,  3.]])"
      ]
     },
     "execution_count": 21,
     "metadata": {},
     "output_type": "execute_result"
    }
   ],
   "source": [
    "def trpose(A):\n",
    "    #get the number of rows and columns\n",
    "    n1 = np.shape(A)[0]\n",
    "    n2 = np.shape(A)[1]\n",
    "    #create the shape of the transpose\n",
    "    sh = (n2,n1)\n",
    "\n",
    "    #initialize an empty matrix\n",
    "    AT = np.zeros(shape=sh)\n",
    "\n",
    "    #fill in the data\n",
    "    for i in range(n2): #for i in the range of the number of rows in A^T\n",
    "        for j in range(n1): #for j in range of the number of cols in A^T\n",
    "            #make the a_ijth entry of A^T the a_jith entry of A\n",
    "            AT[i,j] = A[j,i]\n",
    "    return AT\n",
    "\n",
    "A = np.array( [ [3,2], [-1,0], [3,3]] )\n",
    "trpose(A)"
   ]
  },
  {
   "cell_type": "markdown",
   "id": "85e1b299",
   "metadata": {},
   "source": [
    "Problem 4: Build a function which determines if a list of vectors is an orthogonal or orthonormal basis by computing $A^T A$ and checking if it is diagonal / I. (Hint: Use your function from problem 3!)"
   ]
  },
  {
   "cell_type": "code",
   "execution_count": 35,
   "id": "9a246ec0",
   "metadata": {},
   "outputs": [
    {
     "name": "stdout",
     "output_type": "stream",
     "text": [
      "[[1 0]\n",
      " [1 1]] is not an orthogonal or orthonormal basis for V.\n"
     ]
    }
   ],
   "source": [
    "def isDiag(A):\n",
    "    #we want to figure out if a matrix is diagonal, and thus orthogonal and orthonormal.\n",
    "    #the main definition for diagonality is, for i not equal to j, that all a_ij = 0\n",
    "\n",
    "    #get the shape\n",
    "    n1 = np.shape(A)[0]\n",
    "    n2 = np.shape(A)[1]\n",
    "\n",
    "    is_diag = True\n",
    "    is_ortho = True\n",
    "    for i in range(n1):\n",
    "        for j in range(n2):\n",
    "            #we have the ij indexer, and so now, we want to check every entry, i not equal j\n",
    "            if i != j:\n",
    "                #check to see if a_ij is not zero. if it is, we're done for both orthogonality and orthonormality. \n",
    "                if A[i,j] != 0:\n",
    "                    is_diag = False\n",
    "                    break #ends the loop early\n",
    "            else: #if i is j, we want to check that a_ij = 1\n",
    "                if A[i,j] != 1:\n",
    "                    is_ortho = False\n",
    "                    if A[i,j] == 0:\n",
    "                        is_diag = False\n",
    "    \n",
    "    if is_ortho is True:\n",
    "        return 'Orthonormal'\n",
    "    elif is_diag is True:\n",
    "        return 'Orthogonal'\n",
    "    else:\n",
    "        return 'Neither'\n",
    "\n",
    "\n",
    "\n",
    "#this is the big function that actually gets called and determines orthogonality/orthonormality\n",
    "def isOrth(A):\n",
    "    #compute A^T\n",
    "    AT = trpose(A)\n",
    "\n",
    "    #multiply A^T * A\n",
    "    C = mult(AT,A)\n",
    "\n",
    "    if isDiag(C) == 'Orthonormal':\n",
    "        return print(f'{A} is an orthonormal basis for V.')\n",
    "    elif isDiag(C) == 'Orthogonal':\n",
    "        return print(f'{A} is an orthogonal basis but not an orthonormal basis for V.')\n",
    "    else:\n",
    "        return print(f'{A} is not an orthogonal or orthonormal basis for V.')\n",
    "\n",
    "\n",
    "A = np.array( [ [1,0], [1,1]] )\n",
    "isOrth(A)"
   ]
  },
  {
   "cell_type": "markdown",
   "id": "b0767499",
   "metadata": {},
   "source": [
    "Problem 5: Use Numpy's internal tools to compute the eigenvectors and eigenvalues of A, and then build a function which outputs the spectral decomposition of A."
   ]
  },
  {
   "cell_type": "code",
   "execution_count": 50,
   "id": "cc43486a",
   "metadata": {},
   "outputs": [
    {
     "data": {
      "text/plain": [
       "(array([[0.99740023, 0.07206101],\n",
       "        [0.15697686, 0.98760228]]),\n",
       " array([[71.20526275,  0.        ],\n",
       "        [ 0.        ,  2.79473725]]),\n",
       " array([[0.99740023, 0.15697686],\n",
       "        [0.07206101, 0.98760228]]))"
      ]
     },
     "execution_count": 50,
     "metadata": {},
     "output_type": "execute_result"
    }
   ],
   "source": [
    "A = np.array( [ [72,-11], [5,2]] )\n",
    "\n",
    "def spec(A):\n",
    "    #get eigenvals and eigenvecs\n",
    "    evals, evecs = np.linalg.eig(A)\n",
    "    n1 = np.shape(evecs)[0]\n",
    "    n2 = np.shape(evecs)[1]\n",
    "    sh = (n1,n2)\n",
    "\n",
    "    #initialize U and U^T\n",
    "    U = evecs \n",
    "    UT = trpose(U)\n",
    "\n",
    "    lam = np.zeros(shape=sh)\n",
    "\n",
    "    #make diag(lambda_i)\n",
    "    for i in range(len(evals)):\n",
    "        lam[i,i] = evals[i]\n",
    "    \n",
    "    return UT, lam, U\n",
    "        \n",
    "spec(A)\n"
   ]
  },
  {
   "cell_type": "markdown",
   "id": "94e1620f",
   "metadata": {},
   "source": [
    "(Bonus) Problem 6: Use problem 5 to find $A^n$ quickly!"
   ]
  },
  {
   "cell_type": "code",
   "execution_count": 63,
   "id": "6f10340f",
   "metadata": {},
   "outputs": [
    {
     "data": {
      "text/plain": [
       "array([[  47175.2447408 ,  370384.51679967,  -73847.73367023],\n",
       "       [ 370384.51679967, -333471.60230464, -398254.45972148],\n",
       "       [ -73847.73367023, -398254.45972148,  105372.72462014]])"
      ]
     },
     "execution_count": 63,
     "metadata": {},
     "output_type": "execute_result"
    }
   ],
   "source": [
    "def diagExp(D,n):\n",
    "    #take in diagonal matrices only\n",
    "    #set up dummy matrix of zeros\n",
    "    C = np.zeros(shape=np.shape(D))\n",
    "\n",
    "    #compute diagonal exponent and return\n",
    "    for i in range(np.shape(D)[0]):\n",
    "        C[i,i] = np.power(D[i,i],n)\n",
    "\n",
    "    return C\n",
    "\n",
    "def matExp(A,n):\n",
    "    #want to exponentiate A by n times\n",
    "    #get spectral decomp\n",
    "    UT, lam, U = spec(A)\n",
    "\n",
    "    #compute the diagonal exponent\n",
    "    exp_lam = diagExp(lam,n)\n",
    "\n",
    "    #put it all together!\n",
    "    AN = mult(mult(UT,exp_lam), U)\n",
    "\n",
    "    return AN\n",
    "\n",
    "A = np.array( [ [1,4,-1], [5,1,0], [4,6,-3] ])\n",
    "matExp(A,9)"
   ]
  }
 ],
 "metadata": {
  "kernelspec": {
   "display_name": "Python 3",
   "language": "python",
   "name": "python3"
  },
  "language_info": {
   "codemirror_mode": {
    "name": "ipython",
    "version": 3
   },
   "file_extension": ".py",
   "mimetype": "text/x-python",
   "name": "python",
   "nbconvert_exporter": "python",
   "pygments_lexer": "ipython3",
   "version": "3.12.10"
  }
 },
 "nbformat": 4,
 "nbformat_minor": 5
}
