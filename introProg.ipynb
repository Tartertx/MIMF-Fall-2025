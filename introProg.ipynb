{
 "cells": [
  {
   "cell_type": "markdown",
   "id": "1c9e51d6",
   "metadata": {},
   "source": [
    "Intro to programming notebook from in class 09/22/2025."
   ]
  },
  {
   "cell_type": "markdown",
   "id": "018537be",
   "metadata": {},
   "source": [
    "Datatypes:\n",
    "\n",
    "- string '' or \"\" denoted as str\n",
    "\n",
    "- int = whole numbers without decimals\n",
    "\n",
    "- float = numbers with decimals / decimal representations of fractions\n",
    "\n",
    "- boolean data = True or False\n",
    "\n",
    "- fstring f'' or f\"\"\n",
    "\n",
    "- \\n in a string adds a new line in the string"
   ]
  },
  {
   "cell_type": "code",
   "execution_count": null,
   "id": "ae3188fe",
   "metadata": {},
   "outputs": [
    {
     "name": "stdout",
     "output_type": "stream",
     "text": [
      "I am storing a numerical value in a string: \n",
      "245\n"
     ]
    }
   ],
   "source": [
    "stringvar = 'this is a string'\n",
    "intvar = 245\n",
    "floatvar = 10/81\n",
    "boolvar = True\n",
    "fstring = f'I am storing a numerical value in a string: \\n{intvar}'"
   ]
  },
  {
   "cell_type": "markdown",
   "id": "d99916d1",
   "metadata": {},
   "source": [
    "Arithmetic:\n",
    "\n",
    "- '-', '+', '/', '*' work nicely\n",
    "\n",
    "- float uses ^ for exponentiation. if used on int, it is bitwise XOR.\n",
    "\n",
    "- int uses ** for exponentiation"
   ]
  },
  {
   "cell_type": "markdown",
   "id": "e897cb82",
   "metadata": {},
   "source": [
    "Storage types:\n",
    "\n",
    "- Lists, [], keep things in order, can reference based on position in the list. Its index starts at zero.\n",
    "\n",
    "- Dictionary, {key:value}, stores values to keys.\n",
    "\n",
    "- We can reference the ith value of something in a list by using $list[i]$ or $dict[key][i]$\n",
    "\n",
    "- We can append lists by list += [thing we want to add]\n",
    "\n",
    "- We can append dictionaries by dict['key'].append(thing we want to add)"
   ]
  },
  {
   "cell_type": "code",
   "execution_count": 41,
   "id": "01ff57ea",
   "metadata": {},
   "outputs": [
    {
     "name": "stdout",
     "output_type": "stream",
     "text": [
      "4\n",
      "['David', 'Adam', 'Keegan', 'Jacob', 'Kai']\n"
     ]
    }
   ],
   "source": [
    "list1 = [1, 2, 3, 4, 5, 6, 'string']\n",
    "\n",
    "print(list1[3])\n",
    "\n",
    "dict1 = {'students':['David', 'Adam', 'Keegan','Jacob','Kai'], 47:'text'}\n",
    "\n",
    "print(dict1['students'])"
   ]
  },
  {
   "cell_type": "markdown",
   "id": "5fb9a95b",
   "metadata": {},
   "source": [
    "Loop types:\n",
    "\n",
    "- for loops say \"for i equals 1 to n, do this thing repeatedly\", or \"for each value in a list, do something repeatedly\".\n",
    "\n",
    "- while loops run until something isn't true\n",
    "\n",
    "- == means \"is equal to\"\n",
    "\n",
    "- += is equivalent to x = x + (whatever is on the RHS of +=)\n",
    "\n",
    "- range gives you numbers 0 through n\n",
    "\n",
    "- len gives you the length of a list / dtype\n",
    "\n",
    "- range(len(something)) gives you an index for that something"
   ]
  },
  {
   "cell_type": "code",
   "execution_count": 50,
   "id": "fd3472e4",
   "metadata": {},
   "outputs": [
    {
     "name": "stdout",
     "output_type": "stream",
     "text": [
      "David is awesome!\n",
      "Adam is awesome!\n",
      "Keegan is awesome!\n",
      "Jacob is awesome!\n",
      "Kai is awesome!\n",
      "1\n",
      "2\n",
      "3\n",
      "4\n",
      "5\n",
      "6\n",
      "7\n",
      "8\n",
      "9\n"
     ]
    }
   ],
   "source": [
    "for i in range(len(dict1['students'])):\n",
    "    print(f'{dict1['students'][i]} is awesome!')\n",
    "\n",
    "j = 1\n",
    "while j < 10:\n",
    "    print(j)\n",
    "    j += 1 "
   ]
  },
  {
   "cell_type": "markdown",
   "id": "2c25b313",
   "metadata": {},
   "source": [
    "If statements:\n",
    "\n",
    "- work exactly as you would expect\n",
    "\n",
    "- if, elif, else\n",
    "\n",
    "- == means \"is equal to?\"\n",
    "\n",
    "- != means \"is not equal to\"\n",
    "\n",
    "- The following items, >, <, >=, <= all work as expected\n",
    "\n",
    "- For boolean statements, we use \"blahblahblah is True\", not \"== True\""
   ]
  },
  {
   "cell_type": "code",
   "execution_count": null,
   "id": "59f3fc17",
   "metadata": {},
   "outputs": [
    {
     "name": "stdout",
     "output_type": "stream",
     "text": [
      "Not cool at all\n"
     ]
    }
   ],
   "source": [
    "j = 3\n",
    "\n",
    "if j is True:\n",
    "    print('Cool')\n",
    "elif j is False:\n",
    "    print('Less cool')\n",
    "else:\n",
    "    print('Not cool at all')"
   ]
  },
  {
   "cell_type": "markdown",
   "id": "9f2a4883",
   "metadata": {},
   "source": [
    "Combining things:"
   ]
  },
  {
   "cell_type": "code",
   "execution_count": 63,
   "id": "f8ca8eb4",
   "metadata": {},
   "outputs": [
    {
     "name": "stdout",
     "output_type": "stream",
     "text": [
      "1\n",
      "2\n",
      "3\n",
      "4\n",
      "5\n",
      "6\n",
      "7\n",
      "8\n",
      "9\n",
      "10\n",
      "11\n",
      "12\n",
      "13\n",
      "14\n",
      "15\n",
      "16\n",
      "17\n",
      "18\n",
      "19\n",
      "20\n",
      "21\n",
      "22\n",
      "23\n",
      "24\n",
      "25\n",
      "26\n",
      "27\n",
      "28\n",
      "29\n",
      "30\n",
      "[7, 8, 9]\n"
     ]
    }
   ],
   "source": [
    "j = True\n",
    "i=0\n",
    "\n",
    "while j is True:\n",
    "    i += 1\n",
    "    if i >= 30:\n",
    "        j = False\n",
    "    print(i)\n",
    "\n",
    "elist = []\n",
    "for i in range(10):\n",
    "    if i >= 7:\n",
    "        elist+= [i]\n",
    "\n",
    "print(elist)"
   ]
  }
 ],
 "metadata": {
  "kernelspec": {
   "display_name": "Python 3",
   "language": "python",
   "name": "python3"
  },
  "language_info": {
   "codemirror_mode": {
    "name": "ipython",
    "version": 3
   },
   "file_extension": ".py",
   "mimetype": "text/x-python",
   "name": "python",
   "nbconvert_exporter": "python",
   "pygments_lexer": "ipython3",
   "version": "3.12.10"
  }
 },
 "nbformat": 4,
 "nbformat_minor": 5
}
