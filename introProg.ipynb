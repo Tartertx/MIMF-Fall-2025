{
 "cells": [
  {
   "cell_type": "markdown",
   "id": "1c9e51d6",
   "metadata": {},
   "source": [
    "## Intro to programming notebook from in class 09/22/2025."
   ]
  },
  {
   "cell_type": "markdown",
   "id": "018537be",
   "metadata": {},
   "source": [
    "## Datatypes:\n",
    "\n",
    "- string '' or \"\" denoted as str\n",
    "\n",
    "- int = whole numbers without decimals\n",
    "\n",
    "- float = numbers with decimals / decimal representations of fractions\n",
    "\n",
    "- boolean data = True or False\n",
    "\n",
    "- fstring f'' or f\"\"\n",
    "\n",
    "- \\n in a string adds a new line in the string"
   ]
  },
  {
   "cell_type": "code",
   "execution_count": null,
   "id": "ae3188fe",
   "metadata": {},
   "outputs": [
    {
     "name": "stdout",
     "output_type": "stream",
     "text": [
      "I am storing a numerical value in a string: \n",
      "245\n"
     ]
    }
   ],
   "source": [
    "stringvar = 'this is a string'\n",
    "intvar = 245\n",
    "floatvar = 10/81\n",
    "boolvar = True\n",
    "fstring = f'I am storing a numerical value in a string: \\n{intvar}'"
   ]
  },
  {
   "cell_type": "markdown",
   "id": "d99916d1",
   "metadata": {},
   "source": [
    "# Arithmetic:\n",
    "\n",
    "- '-', '+', '/', '*' work nicely\n",
    "\n",
    "- % is the modulo operator, we use it to check if numbers are even or odd\n",
    "\n",
    "- float uses ^ for exponentiation. if used on int, it is bitwise XOR.\n",
    "\n",
    "- int uses ** for exponentiation"
   ]
  },
  {
   "cell_type": "markdown",
   "id": "e897cb82",
   "metadata": {},
   "source": [
    "# Storage types:\n",
    "\n",
    "- Lists, [], keep things in order, can reference based on position in the list. Its index starts at zero.\n",
    "\n",
    "- Dictionary, {key:value}, stores values to keys.\n",
    "\n",
    "- We can reference the ith value of something in a list by using $list[i]$ or $dict[key][i]$\n",
    "\n",
    "- We can append lists by list += [thing we want to add]\n",
    "\n",
    "- We can append dictionaries by dict['key'].append(thing we want to add)"
   ]
  },
  {
   "cell_type": "code",
   "execution_count": 41,
   "id": "01ff57ea",
   "metadata": {},
   "outputs": [
    {
     "name": "stdout",
     "output_type": "stream",
     "text": [
      "4\n",
      "['David', 'Adam', 'Keegan', 'Jacob', 'Kai']\n"
     ]
    }
   ],
   "source": [
    "list1 = [1, 2, 3, 4, 5, 6, 'string']\n",
    "\n",
    "print(list1[3])\n",
    "\n",
    "dict1 = {'students':['David', 'Adam', 'Keegan','Jacob','Kai'], 47:'text'}\n",
    "\n",
    "print(dict1['students'])"
   ]
  },
  {
   "cell_type": "markdown",
   "id": "5fb9a95b",
   "metadata": {},
   "source": [
    "# Loop types:\n",
    "\n",
    "- for loops say \"for i equals 1 to n, do this thing repeatedly\", or \"for each value in a list, do something repeatedly\".\n",
    "\n",
    "- while loops run until something isn't true\n",
    "\n",
    "- == means \"is equal to\"\n",
    "\n",
    "- += is equivalent to x = x + (whatever is on the RHS of +=)\n",
    "\n",
    "- range gives you numbers 0 through n\n",
    "\n",
    "- len gives you the length of a list / dtype\n",
    "\n",
    "- range(len(something)) gives you an index for that something"
   ]
  },
  {
   "cell_type": "code",
   "execution_count": 50,
   "id": "fd3472e4",
   "metadata": {},
   "outputs": [
    {
     "name": "stdout",
     "output_type": "stream",
     "text": [
      "David is awesome!\n",
      "Adam is awesome!\n",
      "Keegan is awesome!\n",
      "Jacob is awesome!\n",
      "Kai is awesome!\n",
      "1\n",
      "2\n",
      "3\n",
      "4\n",
      "5\n",
      "6\n",
      "7\n",
      "8\n",
      "9\n"
     ]
    }
   ],
   "source": [
    "for i in range(len(dict1['students'])):\n",
    "    print(f'{dict1['students'][i]} is awesome!')\n",
    "\n",
    "j = 1\n",
    "while j < 10:\n",
    "    print(j)\n",
    "    j += 1 "
   ]
  },
  {
   "cell_type": "markdown",
   "id": "2c25b313",
   "metadata": {},
   "source": [
    "# If statements:\n",
    "\n",
    "- work exactly as you would expect\n",
    "\n",
    "- if, elif, else\n",
    "\n",
    "- == means \"is equal to?\"\n",
    "\n",
    "- != means \"is not equal to\"\n",
    "\n",
    "- The following items, >, <, >=, <= all work as expected\n",
    "\n",
    "- For boolean statements, we use \"blahblahblah is True\", not \"== True\""
   ]
  },
  {
   "cell_type": "code",
   "execution_count": null,
   "id": "59f3fc17",
   "metadata": {},
   "outputs": [
    {
     "name": "stdout",
     "output_type": "stream",
     "text": [
      "Not cool at all\n"
     ]
    }
   ],
   "source": [
    "j = 3\n",
    "\n",
    "if j is True:\n",
    "    print('Cool')\n",
    "elif j is False:\n",
    "    print('Less cool')\n",
    "else:\n",
    "    print('Not cool at all')"
   ]
  },
  {
   "cell_type": "markdown",
   "id": "9f2a4883",
   "metadata": {},
   "source": [
    "# Combining things:"
   ]
  },
  {
   "cell_type": "code",
   "execution_count": 64,
   "id": "f8ca8eb4",
   "metadata": {},
   "outputs": [
    {
     "name": "stdout",
     "output_type": "stream",
     "text": [
      "1\n",
      "2\n",
      "3\n",
      "4\n",
      "5\n",
      "[7, 8, 9]\n"
     ]
    }
   ],
   "source": [
    "j = True\n",
    "i=0\n",
    "\n",
    "while j is True:\n",
    "    i += 1\n",
    "    if i >= 5:\n",
    "        j = False\n",
    "    print(i)\n",
    "\n",
    "elist = []\n",
    "for i in range(10):\n",
    "    if i >= 7:\n",
    "        elist+= [i]\n",
    "\n",
    "print(elist)"
   ]
  },
  {
   "cell_type": "markdown",
   "id": "dc9057a7",
   "metadata": {},
   "source": [
    "# Challenge:\n",
    "\n",
    "- Make a program which outputs the fibonacci sequence up to its nth digit. \n",
    "\n",
    "$f_n = f_{n-1}+f_{n-2}$, $f_0 = 0, f_1 = 1$"
   ]
  },
  {
   "cell_type": "code",
   "execution_count": null,
   "id": "b88e4794",
   "metadata": {},
   "outputs": [
    {
     "name": "stdout",
     "output_type": "stream",
     "text": [
      "This is the Fibonacci sequence up to its 30th digit \n",
      " [0, 1, 1, 2, 3, 5, 8, 13, 21, 34, 55, 89, 144, 233, 377, 610, 987, 1597, 2584, 4181, 6765, 10946, 17711, 28657, 46368, 75025, 121393, 196418, 317811, 514229]\n"
     ]
    }
   ],
   "source": [
    "fibseq = [0,1]\n",
    "n = 30\n",
    "\n",
    "for i in range(2,n):\n",
    "    fibseq += [fibseq[i-1]+fibseq[i-2]]\n",
    "\n",
    "print(f'This is the Fibonacci sequence up to its {n}th digit: \\n {fibseq}')"
   ]
  },
  {
   "cell_type": "markdown",
   "id": "36adcdd2",
   "metadata": {},
   "source": [
    "# Functions:\n",
    "\n",
    "- Let you input certain parameters and return certain outputs according to the same block of code every time.\n",
    "\n",
    "- \"return\" ends the function\n",
    "\n",
    "- \"break\" ends the function without returning anything"
   ]
  },
  {
   "cell_type": "code",
   "execution_count": 72,
   "id": "79915cdd",
   "metadata": {},
   "outputs": [
    {
     "data": {
      "text/plain": [
       "[0, 1, 1, 2, 3, 5, 8, 13, 21, 34]"
      ]
     },
     "execution_count": 72,
     "metadata": {},
     "output_type": "execute_result"
    }
   ],
   "source": [
    "def fibonacci(n):\n",
    "    fibseq = [0,1]\n",
    "\n",
    "    for i in range(2,n):\n",
    "        fibseq += [fibseq[i-1]+fibseq[i-2]]\n",
    "    \n",
    "    return fibseq\n",
    "\n",
    "fibonacci(10)"
   ]
  },
  {
   "cell_type": "markdown",
   "id": "de54e6ce",
   "metadata": {},
   "source": [
    "# Challenge: \n",
    "Build a function which only outputs the odd elements of the Fibonacci sequence. Hint: (i % 2 == 1)."
   ]
  },
  {
   "cell_type": "code",
   "execution_count": 71,
   "id": "25f94d72",
   "metadata": {},
   "outputs": [
    {
     "data": {
      "text/plain": [
       "[1, 1, 3, 5, 13, 21, 55, 89, 233, 377, 987, 1597, 4181, 6765]"
      ]
     },
     "execution_count": 71,
     "metadata": {},
     "output_type": "execute_result"
    }
   ],
   "source": [
    "def oddfibs(n):\n",
    "    oddlist = []\n",
    "    fiblist = fibonacci(n)\n",
    "    for i in fiblist:\n",
    "        if i % 2 == 1:\n",
    "            oddlist+= [i]\n",
    "    \n",
    "    return oddlist\n",
    "\n",
    "oddfibs(21)"
   ]
  },
  {
   "cell_type": "markdown",
   "id": "8ad06718",
   "metadata": {},
   "source": [
    "# Pandas \n",
    "\n",
    "- lists are called dataframes\n",
    "\n",
    "- we reference entries by df.loc[row number, column name]. .loc requires you to reference columns with the column name, and CAN expand the df.\n",
    "\n",
    "- if we want an entire row, we can do df.loc[row number, :]\n",
    "\n",
    "- if we want an entire column, we can do df.loc[:, column number]\n",
    "\n",
    "- .iloc allows you to reference a row or column without using the name of the column, but it can't expand the df."
   ]
  },
  {
   "cell_type": "code",
   "execution_count": 79,
   "id": "9c7d2571",
   "metadata": {},
   "outputs": [
    {
     "data": {
      "text/html": [
       "<div>\n",
       "<style scoped>\n",
       "    .dataframe tbody tr th:only-of-type {\n",
       "        vertical-align: middle;\n",
       "    }\n",
       "\n",
       "    .dataframe tbody tr th {\n",
       "        vertical-align: top;\n",
       "    }\n",
       "\n",
       "    .dataframe thead th {\n",
       "        text-align: right;\n",
       "    }\n",
       "</style>\n",
       "<table border=\"1\" class=\"dataframe\">\n",
       "  <thead>\n",
       "    <tr style=\"text-align: right;\">\n",
       "      <th></th>\n",
       "      <th>column 1</th>\n",
       "      <th>column 2</th>\n",
       "      <th>column 3</th>\n",
       "    </tr>\n",
       "  </thead>\n",
       "  <tbody>\n",
       "    <tr>\n",
       "      <th>0</th>\n",
       "      <td>8</td>\n",
       "      <td>5</td>\n",
       "      <td>3</td>\n",
       "    </tr>\n",
       "    <tr>\n",
       "      <th>1</th>\n",
       "      <td>1</td>\n",
       "      <td>10</td>\n",
       "      <td>4</td>\n",
       "    </tr>\n",
       "    <tr>\n",
       "      <th>2</th>\n",
       "      <td>7</td>\n",
       "      <td>7</td>\n",
       "      <td>2</td>\n",
       "    </tr>\n",
       "    <tr>\n",
       "      <th>3</th>\n",
       "      <td>7</td>\n",
       "      <td>2</td>\n",
       "      <td>4</td>\n",
       "    </tr>\n",
       "    <tr>\n",
       "      <th>4</th>\n",
       "      <td>9</td>\n",
       "      <td>8</td>\n",
       "      <td>10</td>\n",
       "    </tr>\n",
       "    <tr>\n",
       "      <th>5</th>\n",
       "      <td>10</td>\n",
       "      <td>6</td>\n",
       "      <td>1</td>\n",
       "    </tr>\n",
       "    <tr>\n",
       "      <th>6</th>\n",
       "      <td>10</td>\n",
       "      <td>1</td>\n",
       "      <td>3</td>\n",
       "    </tr>\n",
       "    <tr>\n",
       "      <th>7</th>\n",
       "      <td>5</td>\n",
       "      <td>4</td>\n",
       "      <td>9</td>\n",
       "    </tr>\n",
       "    <tr>\n",
       "      <th>8</th>\n",
       "      <td>5</td>\n",
       "      <td>1</td>\n",
       "      <td>2</td>\n",
       "    </tr>\n",
       "    <tr>\n",
       "      <th>9</th>\n",
       "      <td>3</td>\n",
       "      <td>9</td>\n",
       "      <td>5</td>\n",
       "    </tr>\n",
       "  </tbody>\n",
       "</table>\n",
       "</div>"
      ],
      "text/plain": [
       "   column 1  column 2  column 3\n",
       "0         8         5         3\n",
       "1         1        10         4\n",
       "2         7         7         2\n",
       "3         7         2         4\n",
       "4         9         8        10\n",
       "5        10         6         1\n",
       "6        10         1         3\n",
       "7         5         4         9\n",
       "8         5         1         2\n",
       "9         3         9         5"
      ]
     },
     "metadata": {},
     "output_type": "display_data"
    }
   ],
   "source": [
    "import pandas as pd\n",
    "import random as rd\n",
    "\n",
    "cols = ['column 1', 'column 2', 'column 3']\n",
    "df = pd.DataFrame(columns = cols)\n",
    "\n",
    "for i in range(10):\n",
    "    df.loc[i]= [rd.randint(1,10),rd.randint(1,10),rd.randint(1,10)]\n",
    "\n",
    "display(df)\n"
   ]
  },
  {
   "cell_type": "markdown",
   "id": "ba4a9d98",
   "metadata": {},
   "source": [
    "# Challenge:\n",
    "Build a function which makes an nxn dataframe with 1's along the diagonal and zeroes everywhere else."
   ]
  },
  {
   "cell_type": "code",
   "execution_count": 80,
   "id": "ccd77f2e",
   "metadata": {},
   "outputs": [
    {
     "data": {
      "text/html": [
       "<div>\n",
       "<style scoped>\n",
       "    .dataframe tbody tr th:only-of-type {\n",
       "        vertical-align: middle;\n",
       "    }\n",
       "\n",
       "    .dataframe tbody tr th {\n",
       "        vertical-align: top;\n",
       "    }\n",
       "\n",
       "    .dataframe thead th {\n",
       "        text-align: right;\n",
       "    }\n",
       "</style>\n",
       "<table border=\"1\" class=\"dataframe\">\n",
       "  <thead>\n",
       "    <tr style=\"text-align: right;\">\n",
       "      <th></th>\n",
       "      <th>0</th>\n",
       "      <th>1</th>\n",
       "      <th>2</th>\n",
       "      <th>3</th>\n",
       "      <th>4</th>\n",
       "      <th>5</th>\n",
       "      <th>6</th>\n",
       "      <th>7</th>\n",
       "      <th>8</th>\n",
       "      <th>9</th>\n",
       "    </tr>\n",
       "  </thead>\n",
       "  <tbody>\n",
       "    <tr>\n",
       "      <th>0</th>\n",
       "      <td>1.0</td>\n",
       "      <td>0.0</td>\n",
       "      <td>0.0</td>\n",
       "      <td>0.0</td>\n",
       "      <td>0.0</td>\n",
       "      <td>0.0</td>\n",
       "      <td>0.0</td>\n",
       "      <td>0.0</td>\n",
       "      <td>0.0</td>\n",
       "      <td>0.0</td>\n",
       "    </tr>\n",
       "    <tr>\n",
       "      <th>1</th>\n",
       "      <td>0.0</td>\n",
       "      <td>1.0</td>\n",
       "      <td>0.0</td>\n",
       "      <td>0.0</td>\n",
       "      <td>0.0</td>\n",
       "      <td>0.0</td>\n",
       "      <td>0.0</td>\n",
       "      <td>0.0</td>\n",
       "      <td>0.0</td>\n",
       "      <td>0.0</td>\n",
       "    </tr>\n",
       "    <tr>\n",
       "      <th>2</th>\n",
       "      <td>0.0</td>\n",
       "      <td>0.0</td>\n",
       "      <td>1.0</td>\n",
       "      <td>0.0</td>\n",
       "      <td>0.0</td>\n",
       "      <td>0.0</td>\n",
       "      <td>0.0</td>\n",
       "      <td>0.0</td>\n",
       "      <td>0.0</td>\n",
       "      <td>0.0</td>\n",
       "    </tr>\n",
       "    <tr>\n",
       "      <th>3</th>\n",
       "      <td>0.0</td>\n",
       "      <td>0.0</td>\n",
       "      <td>0.0</td>\n",
       "      <td>1.0</td>\n",
       "      <td>0.0</td>\n",
       "      <td>0.0</td>\n",
       "      <td>0.0</td>\n",
       "      <td>0.0</td>\n",
       "      <td>0.0</td>\n",
       "      <td>0.0</td>\n",
       "    </tr>\n",
       "    <tr>\n",
       "      <th>4</th>\n",
       "      <td>0.0</td>\n",
       "      <td>0.0</td>\n",
       "      <td>0.0</td>\n",
       "      <td>0.0</td>\n",
       "      <td>1.0</td>\n",
       "      <td>0.0</td>\n",
       "      <td>0.0</td>\n",
       "      <td>0.0</td>\n",
       "      <td>0.0</td>\n",
       "      <td>0.0</td>\n",
       "    </tr>\n",
       "    <tr>\n",
       "      <th>5</th>\n",
       "      <td>0.0</td>\n",
       "      <td>0.0</td>\n",
       "      <td>0.0</td>\n",
       "      <td>0.0</td>\n",
       "      <td>0.0</td>\n",
       "      <td>1.0</td>\n",
       "      <td>0.0</td>\n",
       "      <td>0.0</td>\n",
       "      <td>0.0</td>\n",
       "      <td>0.0</td>\n",
       "    </tr>\n",
       "    <tr>\n",
       "      <th>6</th>\n",
       "      <td>0.0</td>\n",
       "      <td>0.0</td>\n",
       "      <td>0.0</td>\n",
       "      <td>0.0</td>\n",
       "      <td>0.0</td>\n",
       "      <td>0.0</td>\n",
       "      <td>1.0</td>\n",
       "      <td>0.0</td>\n",
       "      <td>0.0</td>\n",
       "      <td>0.0</td>\n",
       "    </tr>\n",
       "    <tr>\n",
       "      <th>7</th>\n",
       "      <td>0.0</td>\n",
       "      <td>0.0</td>\n",
       "      <td>0.0</td>\n",
       "      <td>0.0</td>\n",
       "      <td>0.0</td>\n",
       "      <td>0.0</td>\n",
       "      <td>0.0</td>\n",
       "      <td>1.0</td>\n",
       "      <td>0.0</td>\n",
       "      <td>0.0</td>\n",
       "    </tr>\n",
       "    <tr>\n",
       "      <th>8</th>\n",
       "      <td>0.0</td>\n",
       "      <td>0.0</td>\n",
       "      <td>0.0</td>\n",
       "      <td>0.0</td>\n",
       "      <td>0.0</td>\n",
       "      <td>0.0</td>\n",
       "      <td>0.0</td>\n",
       "      <td>0.0</td>\n",
       "      <td>1.0</td>\n",
       "      <td>0.0</td>\n",
       "    </tr>\n",
       "    <tr>\n",
       "      <th>9</th>\n",
       "      <td>0.0</td>\n",
       "      <td>0.0</td>\n",
       "      <td>0.0</td>\n",
       "      <td>0.0</td>\n",
       "      <td>0.0</td>\n",
       "      <td>0.0</td>\n",
       "      <td>0.0</td>\n",
       "      <td>0.0</td>\n",
       "      <td>0.0</td>\n",
       "      <td>1.0</td>\n",
       "    </tr>\n",
       "  </tbody>\n",
       "</table>\n",
       "</div>"
      ],
      "text/plain": [
       "     0    1    2    3    4    5    6    7    8    9\n",
       "0  1.0  0.0  0.0  0.0  0.0  0.0  0.0  0.0  0.0  0.0\n",
       "1  0.0  1.0  0.0  0.0  0.0  0.0  0.0  0.0  0.0  0.0\n",
       "2  0.0  0.0  1.0  0.0  0.0  0.0  0.0  0.0  0.0  0.0\n",
       "3  0.0  0.0  0.0  1.0  0.0  0.0  0.0  0.0  0.0  0.0\n",
       "4  0.0  0.0  0.0  0.0  1.0  0.0  0.0  0.0  0.0  0.0\n",
       "5  0.0  0.0  0.0  0.0  0.0  1.0  0.0  0.0  0.0  0.0\n",
       "6  0.0  0.0  0.0  0.0  0.0  0.0  1.0  0.0  0.0  0.0\n",
       "7  0.0  0.0  0.0  0.0  0.0  0.0  0.0  1.0  0.0  0.0\n",
       "8  0.0  0.0  0.0  0.0  0.0  0.0  0.0  0.0  1.0  0.0\n",
       "9  0.0  0.0  0.0  0.0  0.0  0.0  0.0  0.0  0.0  1.0"
      ]
     },
     "execution_count": 80,
     "metadata": {},
     "output_type": "execute_result"
    }
   ],
   "source": [
    "def identity(n):\n",
    "    df = pd.DataFrame()\n",
    "    for i in range(n):\n",
    "        for j in range(n):\n",
    "            if i == j:\n",
    "                df.loc[i,j] = 1\n",
    "            else:\n",
    "                df.loc[i,j] = 0\n",
    "    return df\n",
    "\n",
    "identity(10)"
   ]
  },
  {
   "cell_type": "markdown",
   "id": "2af87d04",
   "metadata": {},
   "source": [
    "# NumPy\n",
    "Work well with linear algebra!\n",
    "\n",
    "- uses array data structure (basically a matrix)\n",
    "\n",
    "- np.transpose(A) transposes A\n",
    "\n",
    "- A @ B multiplies the matrices A and B\n",
    "\n",
    "- np.shape(A) returns a list with [number of rows, number of columns]\n",
    "\n",
    "- to get eigenvalues and eigenvectors, we use: evals, evecs = np.linalg.eig(A)"
   ]
  },
  {
   "cell_type": "markdown",
   "id": "9dc30557",
   "metadata": {},
   "source": [
    "# Challenge\n",
    "Build a function which computes $A^TA$ and returns whether or not it is an orthogonal basis, orthonormal basis, or not sure."
   ]
  },
  {
   "cell_type": "code",
   "execution_count": 92,
   "id": "8a4dc437",
   "metadata": {},
   "outputs": [
    {
     "name": "stdout",
     "output_type": "stream",
     "text": [
      "This is an orthogonal basis, but not orthonormal.\n"
     ]
    }
   ],
   "source": [
    "import numpy as np\n",
    "\n",
    "A = np.array([ [1,-2],[2,1] ])\n",
    "\n",
    "def isOrtho(A):\n",
    "    AT = np.transpose(A)\n",
    "    B = AT @ A\n",
    "    sh = np.shape(B)\n",
    "\n",
    "    is_diag = True\n",
    "    is_orth = True\n",
    "\n",
    "    for i in range(sh[0]):\n",
    "        for j in range(sh[1]):\n",
    "            if i == j: #case where we are ON the diagonal\n",
    "                if B[i,j] != 1:\n",
    "                    is_orth = False\n",
    "            else: #case where we are off of the diagonal\n",
    "                if B[i,j] != 0 :\n",
    "                    is_diag = False\n",
    "    \n",
    "    if is_diag is True and is_orth is True:\n",
    "        return print('This is an orthonormal basis!')\n",
    "    elif is_diag is True and is_orth is False:\n",
    "        return print('This is an orthogonal basis, but not orthonormal.')\n",
    "    else:\n",
    "        return print('This is not even orthogonal.')\n",
    "    \n",
    "isOrtho(A)\n"
   ]
  },
  {
   "cell_type": "markdown",
   "id": "55e9fc35",
   "metadata": {},
   "source": [
    "Getting eigenvalues and eigenvectors! Specifically the Spectral decomposition:"
   ]
  },
  {
   "cell_type": "code",
   "execution_count": null,
   "id": "3cc40c3a",
   "metadata": {},
   "outputs": [
    {
     "name": "stdout",
     "output_type": "stream",
     "text": [
      "[[0.99740023 0.07206101]\n",
      " [0.15697686 0.98760228]],\n",
      " \n",
      "[[71.20526275  0.        ]\n",
      " [ 0.          2.79473725]], \n",
      " \n",
      " [[0.99740023 0.15697686]\n",
      " [0.07206101 0.98760228]]\n"
     ]
    }
   ],
   "source": [
    "A = np.array( [ [72,-11], [5,2]] )\n",
    "\n",
    "def spec(A):\n",
    "    #get eigenvals and eigenvecs\n",
    "    evals, evecs = np.linalg.eig(A)\n",
    "    n1 = np.shape(evecs)[0]\n",
    "    n2 = np.shape(evecs)[1]\n",
    "    sh = (n1,n2)\n",
    "\n",
    "    #initialize U and U^T\n",
    "    U = evecs \n",
    "    UT = np.transpose(U)\n",
    "\n",
    "    lam = np.zeros(shape=sh)\n",
    "\n",
    "    #make diag(lambda_i)\n",
    "    for i in range(len(evals)):\n",
    "        lam[i,i] = evals[i]\n",
    "    \n",
    "    return print(f'{UT},\\n \\n{lam}, \\n \\n {U}')\n",
    "        \n",
    "spec(A)\n"
   ]
  },
  {
   "cell_type": "markdown",
   "id": "8b58223a",
   "metadata": {},
   "source": [
    "# MatPlotLib.pyplot\n",
    "\n",
    "Useful for graphs!"
   ]
  },
  {
   "cell_type": "code",
   "execution_count": 114,
   "id": "e444b630",
   "metadata": {},
   "outputs": [
    {
     "data": {
      "text/html": [
       "<div>\n",
       "<style scoped>\n",
       "    .dataframe tbody tr th:only-of-type {\n",
       "        vertical-align: middle;\n",
       "    }\n",
       "\n",
       "    .dataframe tbody tr th {\n",
       "        vertical-align: top;\n",
       "    }\n",
       "\n",
       "    .dataframe thead th {\n",
       "        text-align: right;\n",
       "    }\n",
       "</style>\n",
       "<table border=\"1\" class=\"dataframe\">\n",
       "  <thead>\n",
       "    <tr style=\"text-align: right;\">\n",
       "      <th></th>\n",
       "      <th>x</th>\n",
       "      <th>y</th>\n",
       "    </tr>\n",
       "  </thead>\n",
       "  <tbody>\n",
       "    <tr>\n",
       "      <th>0</th>\n",
       "      <td>-3</td>\n",
       "      <td>9</td>\n",
       "    </tr>\n",
       "    <tr>\n",
       "      <th>1</th>\n",
       "      <td>-2.994</td>\n",
       "      <td>8.964036</td>\n",
       "    </tr>\n",
       "    <tr>\n",
       "      <th>2</th>\n",
       "      <td>-2.988</td>\n",
       "      <td>8.928144</td>\n",
       "    </tr>\n",
       "    <tr>\n",
       "      <th>3</th>\n",
       "      <td>-2.982</td>\n",
       "      <td>8.892324</td>\n",
       "    </tr>\n",
       "    <tr>\n",
       "      <th>4</th>\n",
       "      <td>-2.976</td>\n",
       "      <td>8.856576</td>\n",
       "    </tr>\n",
       "    <tr>\n",
       "      <th>...</th>\n",
       "      <td>...</td>\n",
       "      <td>...</td>\n",
       "    </tr>\n",
       "    <tr>\n",
       "      <th>996</th>\n",
       "      <td>2.976</td>\n",
       "      <td>8.856576</td>\n",
       "    </tr>\n",
       "    <tr>\n",
       "      <th>997</th>\n",
       "      <td>2.982</td>\n",
       "      <td>8.892324</td>\n",
       "    </tr>\n",
       "    <tr>\n",
       "      <th>998</th>\n",
       "      <td>2.988</td>\n",
       "      <td>8.928144</td>\n",
       "    </tr>\n",
       "    <tr>\n",
       "      <th>999</th>\n",
       "      <td>2.994</td>\n",
       "      <td>8.964036</td>\n",
       "    </tr>\n",
       "    <tr>\n",
       "      <th>1000</th>\n",
       "      <td>3.0</td>\n",
       "      <td>9.0</td>\n",
       "    </tr>\n",
       "  </tbody>\n",
       "</table>\n",
       "<p>1001 rows × 2 columns</p>\n",
       "</div>"
      ],
      "text/plain": [
       "          x         y\n",
       "0        -3         9\n",
       "1    -2.994  8.964036\n",
       "2    -2.988  8.928144\n",
       "3    -2.982  8.892324\n",
       "4    -2.976  8.856576\n",
       "...     ...       ...\n",
       "996   2.976  8.856576\n",
       "997   2.982  8.892324\n",
       "998   2.988  8.928144\n",
       "999   2.994  8.964036\n",
       "1000    3.0       9.0\n",
       "\n",
       "[1001 rows x 2 columns]"
      ]
     },
     "metadata": {},
     "output_type": "display_data"
    },
    {
     "data": {
      "image/png": "[encoded data removed]",
      "text/plain": [
       "<Figure size 640x480 with 1 Axes>"
      ]
     },
     "metadata": {},
     "output_type": "display_data"
    }
   ],
   "source": [
    "import matplotlib.pyplot as plt\n",
    "\n",
    "def funcMaker(a,b,samples):\n",
    "    dx = (b-a)/samples\n",
    "    df = pd.DataFrame(columns=['x','y'])\n",
    "    df.loc[0,'x'] = a\n",
    "    df.loc[0,'y'] = a**2#whatever our function is\n",
    "\n",
    "    for i in range(1,samples+1):\n",
    "        df.loc[i,'x'] = df.loc[i-1,'x'] + dx\n",
    "        df.loc[i,'y'] = (df.loc[i,'x'])**2\n",
    "    \n",
    "    return df\n",
    "\n",
    "yIsXsquared = funcMaker(-3,3,1000)\n",
    "display(yIsXsquared)\n",
    "\n",
    "plt.figure\n",
    "plt.plot(yIsXsquared['x'],yIsXsquared['y'], label='Our Function: y=x^2')\n",
    "plt.plot(yIsXsquared['x'],-1*yIsXsquared['y'], label='Our Function: y=-x^2')\n",
    "plt.title('Graphing a Parabola in MPL')\n",
    "plt.xlabel('x-axis')\n",
    "plt.ylabel('y-axis')\n",
    "plt.legend()\n",
    "plt.show()"
   ]
  }
 ],
 "metadata": {
  "kernelspec": {
   "display_name": "Python 3",
   "language": "python",
   "name": "python3"
  },
  "language_info": {
   "codemirror_mode": {
    "name": "ipython",
    "version": 3
   },
   "file_extension": ".py",
   "mimetype": "text/x-python",
   "name": "python",
   "nbconvert_exporter": "python",
   "pygments_lexer": "ipython3",
   "version": "3.12.10"
  }
 },
 "nbformat": 4,
 "nbformat_minor": 5
}
